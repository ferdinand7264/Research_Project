{
 "cells": [
  {
   "cell_type": "code",
   "execution_count": 19,
   "metadata": {},
   "outputs": [
    {
     "data": {
      "text/plain": [
       "'iterative_adversarial_curvy_flowchart.png'"
      ]
     },
     "execution_count": 19,
     "metadata": {},
     "output_type": "execute_result"
    }
   ],
   "source": [
    "from graphviz import Digraph\n",
    "\n",
    "# Create a directed graph with a strictly vertical flow\n",
    "dot = Digraph(comment='Iterative Adversarial Training')\n",
    "\n",
    "# Customizing the graph style\n",
    "dot.attr(rankdir='TB', size='6,10')  # Adjusted size for vertical flow\n",
    "dot.attr('node', shape='box', style='filled', color='lightblue2')\n",
    "dot.attr('edge', color='blue4')\n",
    "\n",
    "# Adding nodes for each step\n",
    "dot.node('A', '  Start  ')\n",
    "dot.node('B', 'Initialize Model')\n",
    "dot.node('C', 'Load Training Data')\n",
    "dot.node('D', 'Train Model on Clean Data')\n",
    "dot.node('E', 'Generate Adversarial Examples')\n",
    "dot.node('F', 'Re-train Model on Adversarial Examples')\n",
    "dot.node('G', 'Evaluate Model Performance')\n",
    "dot.node('H', 'Check Convergence', shape='diamond', style='filled', color='lightcoral')  # Diamond shape for decision\n",
    "dot.node('I', 'End')\n",
    "\n",
    "# Adding vertical edges between nodes with curved edges\n",
    "dot.edge('A', 'B')\n",
    "dot.edge('B', 'C')\n",
    "dot.edge('C', 'D')\n",
    "dot.edge('D', 'E')\n",
    "dot.edge('E', 'F', constraint='false')  # Making the edge curvy\n",
    "dot.edge('F', 'G')\n",
    "dot.edge('G', 'H', constraint='false')  # Making the edge curvy\n",
    "dot.edge('H', 'E', label='No', color='red')\n",
    "dot.edge('H', 'I', label='Yes', color='green')\n",
    "\n",
    "# Generating the flowchart with a strict vertical flow\n",
    "filename = 'iterative_adversarial_curvy_flowchart'\n",
    "dot.render(filename, format='png', cleanup=True)\n"
   ]
  }
 ],
 "metadata": {
  "kernelspec": {
   "display_name": "Python 3",
   "language": "python",
   "name": "python3"
  },
  "language_info": {
   "codemirror_mode": {
    "name": "ipython",
    "version": 3
   },
   "file_extension": ".py",
   "mimetype": "text/x-python",
   "name": "python",
   "nbconvert_exporter": "python",
   "pygments_lexer": "ipython3",
   "version": "3.10.2"
  }
 },
 "nbformat": 4,
 "nbformat_minor": 2
}
